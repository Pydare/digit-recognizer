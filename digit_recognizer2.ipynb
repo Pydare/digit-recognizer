{
 "cells": [
  {
   "cell_type": "code",
   "execution_count": 1,
   "metadata": {},
   "outputs": [],
   "source": [
    "import numpy as np\n",
    "import pandas as pd\n",
    "import matplotlib.pyplot as plt"
   ]
  },
  {
   "cell_type": "code",
   "execution_count": 6,
   "metadata": {},
   "outputs": [],
   "source": [
    "train = pd.read_csv('train.csv')\n",
    "test = pd.read_csv('test.csv')"
   ]
  },
  {
   "cell_type": "code",
   "execution_count": 25,
   "metadata": {},
   "outputs": [],
   "source": [
    "X_train = train.iloc[:,1:].values\n",
    "X_test = test.iloc[:,0:].values\n",
    "y_train = train.iloc[:,0].values.reshape(-1,1)"
   ]
  },
  {
   "cell_type": "code",
   "execution_count": 26,
   "metadata": {},
   "outputs": [
    {
     "name": "stderr",
     "output_type": "stream",
     "text": [
      "c:\\users\\dare\\envs\\controls\\lib\\site-packages\\sklearn\\preprocessing\\_encoders.py:368: FutureWarning: The handling of integer data will change in version 0.22. Currently, the categories are determined based on the range [0, max(values)], while in the future they will be determined based on the unique values.\n",
      "If you want the future behaviour and silence this warning, you can specify \"categories='auto'\".\n",
      "In case you used a LabelEncoder before this OneHotEncoder to convert the categories to integers, then you can now use the OneHotEncoder directly.\n",
      "  warnings.warn(msg, FutureWarning)\n",
      "c:\\users\\dare\\envs\\controls\\lib\\site-packages\\sklearn\\preprocessing\\_encoders.py:390: DeprecationWarning: The 'categorical_features' keyword is deprecated in version 0.20 and will be removed in 0.22. You can use the ColumnTransformer instead.\n",
      "  \"use the ColumnTransformer instead.\", DeprecationWarning)\n"
     ]
    }
   ],
   "source": [
    "# Encoding categorical data\n",
    "# Encoding the Independent Variable\n",
    "from sklearn.preprocessing import LabelEncoder, OneHotEncoder\n",
    "labelencoder_y = LabelEncoder()\n",
    "y_train[:,0] = labelencoder_y.fit_transform(y_train[:,0])\n",
    "onehotencoder = OneHotEncoder(categorical_features = [0])\n",
    "y_train = onehotencoder.fit_transform(y_train).toarray()"
   ]
  },
  {
   "cell_type": "code",
   "execution_count": 27,
   "metadata": {},
   "outputs": [
    {
     "name": "stderr",
     "output_type": "stream",
     "text": [
      "c:\\users\\dare\\envs\\controls\\lib\\site-packages\\sklearn\\utils\\validation.py:595: DataConversionWarning: Data with input dtype int64 was converted to float64 by StandardScaler.\n",
      "  warnings.warn(msg, DataConversionWarning)\n",
      "c:\\users\\dare\\envs\\controls\\lib\\site-packages\\sklearn\\utils\\validation.py:595: DataConversionWarning: Data with input dtype int64 was converted to float64 by StandardScaler.\n",
      "  warnings.warn(msg, DataConversionWarning)\n"
     ]
    }
   ],
   "source": [
    "from sklearn.preprocessing import StandardScaler\n",
    "sc = StandardScaler()\n",
    "X_train = sc.fit_transform(X_train)\n",
    "y_train = sc.fit_transform(y_train)"
   ]
  },
  {
   "cell_type": "code",
   "execution_count": 28,
   "metadata": {},
   "outputs": [],
   "source": [
    "import keras\n",
    "from keras.models import Sequential\n",
    "from keras.layers import Dense"
   ]
  },
  {
   "cell_type": "code",
   "execution_count": 29,
   "metadata": {},
   "outputs": [
    {
     "name": "stderr",
     "output_type": "stream",
     "text": [
      "c:\\users\\dare\\envs\\controls\\lib\\site-packages\\ipykernel_launcher.py:5: UserWarning: Update your `Dense` call to the Keras 2 API: `Dense(activation=\"relu\", input_dim=784, units=397, kernel_initializer=\"uniform\")`\n",
      "  \"\"\"\n"
     ]
    }
   ],
   "source": [
    "#initializing the ANN\n",
    "classifier = Sequential()\n",
    "\n",
    "#adding the input and hidden layer\n",
    "classifier.add(Dense(output_dim=397, init='uniform', activation='relu', input_dim=784))"
   ]
  },
  {
   "cell_type": "code",
   "execution_count": 31,
   "metadata": {},
   "outputs": [],
   "source": [
    "#adding the second hidden layer\n",
    "classifier.add(Dense(units = 128, activation = 'relu'))\n",
    "classifier.add(Dense(units = 128, activation = 'relu'))\n",
    "classifier.add(Dense(units = 64, activation = 'relu'))\n",
    "classifier.add(Dense(units = 64, activation = 'relu'))\n",
    "classifier.add(Dense(units = 32, activation = 'relu'))\n",
    "classifier.add(Dense(units = 32, activation = 'relu'))\n"
   ]
  },
  {
   "cell_type": "code",
   "execution_count": 32,
   "metadata": {
    "scrolled": true
   },
   "outputs": [
    {
     "name": "stderr",
     "output_type": "stream",
     "text": [
      "c:\\users\\dare\\envs\\controls\\lib\\site-packages\\ipykernel_launcher.py:2: UserWarning: Update your `Dense` call to the Keras 2 API: `Dense(activation=\"softmax\", units=10, kernel_initializer=\"uniform\")`\n",
      "  \n"
     ]
    }
   ],
   "source": [
    "#adding the output layer\n",
    "classifier.add(Dense(output_dim=10, init='uniform', activation='softmax'))"
   ]
  },
  {
   "cell_type": "code",
   "execution_count": 33,
   "metadata": {},
   "outputs": [],
   "source": [
    "#compiling the ANN\n",
    "classifier.compile(optimizer='adam', loss='categorical_crossentropy', metrics=['accuracy'])"
   ]
  },
  {
   "cell_type": "code",
   "execution_count": 34,
   "metadata": {},
   "outputs": [
    {
     "name": "stdout",
     "output_type": "stream",
     "text": [
      "Epoch 1/25\n",
      "42000/42000 [==============================] - 58s 1ms/step - loss: -41.4435 - acc: 0.8531\n",
      "Epoch 2/25\n",
      "42000/42000 [==============================] - 55s 1ms/step - loss: -44.6962 - acc: 0.9249\n",
      "Epoch 3/25\n",
      "42000/42000 [==============================] - 53s 1ms/step - loss: -44.8986 - acc: 0.9314\n",
      "Epoch 4/25\n",
      "42000/42000 [==============================] - 53s 1ms/step - loss: -45.0121 - acc: 0.9346: 1s - loss: -45.0\n",
      "Epoch 5/25\n",
      "42000/42000 [==============================] - 53s 1ms/step - loss: -44.4703 - acc: 0.9251\n",
      "Epoch 6/25\n",
      "42000/42000 [==============================] - 53s 1ms/step - loss: -45.0163 - acc: 0.9355: 1s - loss: -45.0310 - acc: 0.93 - ETA: 1s - los\n",
      "Epoch 7/25\n",
      "42000/42000 [==============================] - 55s 1ms/step - loss: -44.5566 - acc: 0.9271\n",
      "Epoch 8/25\n",
      "42000/42000 [==============================] - 54s 1ms/step - loss: -44.6828 - acc: 0.9298\n",
      "Epoch 9/25\n",
      "42000/42000 [==============================] - 55s 1ms/step - loss: -43.4828 - acc: 0.9076\n",
      "Epoch 10/25\n",
      "42000/42000 [==============================] - 54s 1ms/step - loss: -43.8761 - acc: 0.9156\n",
      "Epoch 11/25\n",
      "42000/42000 [==============================] - 54s 1ms/step - loss: -39.6992 - acc: 0.8389: 1s - \n",
      "Epoch 12/25\n",
      "42000/42000 [==============================] - 54s 1ms/step - loss: -42.9083 - acc: 0.8975\n",
      "Epoch 13/25\n",
      "42000/42000 [==============================] - 53s 1ms/step - loss: -38.7395 - acc: 0.8196\n",
      "Epoch 14/25\n",
      "42000/42000 [==============================] - 53s 1ms/step - loss: -42.6065 - acc: 0.8933: 2s \n",
      "Epoch 15/25\n",
      "42000/42000 [==============================] - 53s 1ms/step - loss: -40.8088 - acc: 0.8599\n",
      "Epoch 16/25\n",
      "42000/42000 [==============================] - 53s 1ms/step - loss: -32.2700 - acc: 0.6997\n",
      "Epoch 17/25\n",
      "42000/42000 [==============================] - 53s 1ms/step - loss: -36.0938 - acc: 0.7675\n",
      "Epoch 18/25\n",
      "42000/42000 [==============================] - 54s 1ms/step - loss: -33.5374 - acc: 0.7192\n",
      "Epoch 19/25\n",
      "42000/42000 [==============================] - 53s 1ms/step - loss: -30.3723 - acc: 0.6608\n",
      "Epoch 20/25\n",
      "42000/42000 [==============================] - 53s 1ms/step - loss: -30.1320 - acc: 0.6578\n",
      "Epoch 21/25\n",
      "42000/42000 [==============================] - 53s 1ms/step - loss: -24.5818 - acc: 0.5540: 1s - loss: \n",
      "Epoch 22/25\n",
      "42000/42000 [==============================] - 54s 1ms/step - loss: -21.4956 - acc: 0.4972\n",
      "Epoch 23/25\n",
      "42000/42000 [==============================] - 54s 1ms/step - loss: -19.1914 - acc: 0.4541\n",
      "Epoch 24/25\n",
      "42000/42000 [==============================] - 56s 1ms/step - loss: -10.7916 - acc: 0.3014\n",
      "Epoch 25/25\n",
      "42000/42000 [==============================] - 54s 1ms/step - loss: -8.5275 - acc: 0.2580\n"
     ]
    },
    {
     "data": {
      "text/plain": [
       "<keras.callbacks.History at 0x2172ccba780>"
      ]
     },
     "execution_count": 34,
     "metadata": {},
     "output_type": "execute_result"
    }
   ],
   "source": [
    "#fitting the classifier\n",
    "classifier.fit(X_train,y_train,batch_size=28,epochs=25)"
   ]
  },
  {
   "cell_type": "code",
   "execution_count": null,
   "metadata": {},
   "outputs": [],
   "source": []
  }
 ],
 "metadata": {
  "kernelspec": {
   "display_name": "controls",
   "language": "python",
   "name": "controls"
  },
  "language_info": {
   "codemirror_mode": {
    "name": "ipython",
    "version": 3
   },
   "file_extension": ".py",
   "mimetype": "text/x-python",
   "name": "python",
   "nbconvert_exporter": "python",
   "pygments_lexer": "ipython3",
   "version": "3.6.8"
  }
 },
 "nbformat": 4,
 "nbformat_minor": 2
}
